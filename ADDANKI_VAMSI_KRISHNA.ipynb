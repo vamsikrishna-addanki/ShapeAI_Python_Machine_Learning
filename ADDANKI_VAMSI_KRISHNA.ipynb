{
  "nbformat": 4,
  "nbformat_minor": 0,
  "metadata": {
    "colab": {
      "name": "ADDANKI VAMSI KRISHNA.ipynb",
      "provenance": []
    },
    "kernelspec": {
      "name": "python3",
      "display_name": "Python 3"
    },
    "language_info": {
      "name": "python"
    }
  },
  "cells": [
    {
      "cell_type": "code",
      "metadata": {
        "colab": {
          "base_uri": "https://localhost:8080/"
        },
        "id": "KAfL85ZIphsc",
        "outputId": "a51b0008-e049-4278-de8e-07026aff4cb4"
      },
      "source": [
        "import pandas as pd\n",
        "import numpy as np\n",
        "import sklearn\n",
        "from sklearn.datasets import load_boston\n",
        "df=load_boston()\n",
        "df.keys()\n",
        "b=pd.DataFrame(df.data,columns=df.feature_names)\n",
        "b.head()\n",
        "b['midv']=df.target\n",
        "b.head()\n",
        "b.isnull().sum()\n",
        "from sklearn.model_selection import train_test_split\n",
        "X=b.drop('midv',axis=1)\n",
        "Y=b['midv']\n",
        "X_train,X_test,Y_train,Y_test=train_test_split(X,Y,test_size=0.15,random_state=5)\n",
        "print(X_train.shape)\n",
        "print(X_test.shape)\n",
        "print(Y_train.shape)\n",
        "print(Y_test.shape)\n",
        "from sklearn.linear_model import LinearRegression\n",
        "from sklearn.metrics import mean_squared_error\n",
        "lm=LinearRegression()\n",
        "lm.fit(X_train,Y_train)\n",
        "yp=lm.predict(X_train)\n",
        "rmse=(np.sqrt(mean_squared_error(Y_train,yp)))\n",
        "print(\"THE MODEL PERFORMANCE FOR TRAINING SET\")\n",
        "print('RMSE is {}' .format(rmse))\n",
        "print(\"\\n\")\n",
        "\n",
        "\n",
        "ytp=lm.predict(X_test)\n",
        "rmse=(np.sqrt(mean_squared_error(Y_test,ytp)))\n",
        "print(\"THE MODEL PERFORMANCE FOR Testing SET\")\n",
        "print('RMSE is {}' .format(rmse))\n",
        "print(\"\\n\")\n",
        "\n"
      ],
      "execution_count": 25,
      "outputs": [
        {
          "output_type": "stream",
          "text": [
            "(430, 13)\n",
            "(76, 13)\n",
            "(430,)\n",
            "(76,)\n",
            "THE MODEL PERFORMANCE FOR TRAINING SET\n",
            "RMSE is 4.710901797319796\n",
            "\n",
            "\n",
            "THE MODEL PERFORMANCE FOR Testing SET\n",
            "RMSE is 4.687543527902972\n",
            "\n",
            "\n"
          ],
          "name": "stdout"
        }
      ]
    }
  ]
}